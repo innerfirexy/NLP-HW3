{
 "cells": [
  {
   "cell_type": "code",
   "execution_count": 7,
   "id": "95153791",
   "metadata": {},
   "outputs": [],
   "source": [
    "import numpy as np\n",
    "import torch\n",
    "from torch.utils.data import DataLoader, TensorDataset"
   ]
  },
  {
   "cell_type": "code",
   "execution_count": null,
   "id": "73d6efc3",
   "metadata": {},
   "outputs": [],
   "source": [
    "inputs = np.load(\"data/input_train.npy\")\n",
    "# targets = np.load(\"data/target_train.npy\") # tf\n",
    "targets = np.load(\"data/target_train_int.npy\") # pytorch\n",
    "print(\"Done loading data.\")"
   ]
  },
  {
   "cell_type": "code",
   "execution_count": null,
   "id": "2c59ea95",
   "metadata": {},
   "outputs": [],
   "source": [
    "print(inputs.shape)\n",
    "print(targets.shape)"
   ]
  },
  {
   "cell_type": "code",
   "execution_count": null,
   "id": "9b76db90",
   "metadata": {},
   "outputs": [],
   "source": [
    "# convert one-hot format targets to integer format\n",
    "# targets = np.argmax(targets, axis=1)\n",
    "# print(targets.shape)\n",
    "# np.save(\"data/target_train_int.npy\", targets)"
   ]
  },
  {
   "cell_type": "code",
   "execution_count": null,
   "id": "996f240e",
   "metadata": {},
   "outputs": [],
   "source": [
    "inputs_tensor = torch.tensor(inputs, dtype=torch.long)\n",
    "targets_tensor = torch.tensor(targets, dtype=torch.long)\n",
    "\n",
    "dataset = TensorDataset(inputs_tensor, targets_tensor)\n",
    "dataloader = DataLoader(dataset, batch_size=32, shuffle=True)"
   ]
  },
  {
   "cell_type": "code",
   "execution_count": null,
   "id": "8e6bc7fb",
   "metadata": {},
   "outputs": [],
   "source": [
    "count = 0\n",
    "for batch in dataloader:\n",
    "    inputs, targets = batch\n",
    "    print(targets)\n",
    "    count += 1\n",
    "    if count >= 1:\n",
    "        break"
   ]
  },
  {
   "cell_type": "markdown",
   "id": "fe38ceca",
   "metadata": {},
   "source": [
    "### read_dep_relations()"
   ]
  },
  {
   "cell_type": "code",
   "execution_count": null,
   "id": "7ed33a61",
   "metadata": {},
   "outputs": [],
   "source": [
    "from dep_utils import conll_reader\n",
    "\n",
    "def read_dep_relations():\n",
    "    dep_relations = []\n",
    "\n",
    "    input_files = ['data/train.conll', 'data/dev.conll', 'data/test.conll']\n",
    "    for input_file in input_files:\n",
    "        with open(input_file, 'r') as f:\n",
    "            train_trees = list(conll_reader(f))\n",
    "        for tree in train_trees:\n",
    "            for k, v in tree.deprels.items():\n",
    "                if v.deprel not in dep_relations:\n",
    "                    dep_relations.append(v.deprel)\n",
    "\n",
    "    return dep_relations\n",
    "\n",
    "dep_relations = read_dep_relations()\n",
    "print(len(dep_relations))"
   ]
  },
  {
   "cell_type": "code",
   "execution_count": null,
   "id": "c2c8d2d7",
   "metadata": {},
   "outputs": [],
   "source": [
    "# The original extract_training_data.py contains a constant `dep_relations`, which is a hard-coded list of dependency relations\n",
    "# check the difference between the above extracted dep_relations and the original dep_relations\n",
    "\n",
    "dep_relations_new = read_dep_relations()\n",
    "\n",
    "dep_relations_old = dep_relations = [\n",
    "    \"tmod\", \"vmod\",\"csubjpass\",\"rcmod\",\"ccomp\",\"poss\",\"parataxis\",\"appos\",\"dep\",\"iobj\",\"pobj\",\"mwe\",\"quantmod\",\"acomp\",\"number\",\"csubj\",\"root\",\"auxpass\",\"prep\",\"mark\",\"expl\",\"cc\",\"npadvmod\",\"prt\",\"nsubj\",\"advmod\",\"conj\",\"advcl\",\"punct\",\"aux\",\"pcomp\",\"discourse\",\"nsubjpass\",\"predet\",\"cop\",\"possessive\",\"nn\",\"xcomp\",\"preconj\",\"num\",\"amod\",\"dobj\",\"neg\",\"dt\",\"det\"]\n",
    "\n",
    "print(f'len(dep_relations_new) = {len(dep_relations_new)}')\n",
    "print(f'len(dep_relations_old) = {len(dep_relations_old)}')\n",
    "\n",
    "intersection = set(dep_relations_new).intersection(dep_relations_old)\n",
    "print(f'len(intersection) = {len(intersection)}')"
   ]
  },
  {
   "cell_type": "code",
   "execution_count": null,
   "id": "5b86b272",
   "metadata": {},
   "outputs": [],
   "source": [
    "# what is in new but not in old\n",
    "print(set(dep_relations_new) - set(dep_relations_old))"
   ]
  },
  {
   "cell_type": "code",
   "execution_count": null,
   "id": "0ea5c516",
   "metadata": {},
   "outputs": [],
   "source": [
    "# what is in old but not in new\n",
    "print(set(dep_relations_old) - set(dep_relations_new))"
   ]
  },
  {
   "cell_type": "markdown",
   "id": "948ec367",
   "metadata": {},
   "source": [
    "## test TF version of extractor"
   ]
  },
  {
   "cell_type": "code",
   "execution_count": 1,
   "id": "024f9d84",
   "metadata": {},
   "outputs": [],
   "source": [
    "from extract_training_data import FeatureExtractor, get_training_matrices, get_training_instances\n",
    "\n",
    "WORD_VOCAB_FILE = \"data/words.vocab\"\n",
    "POS_VOCAB_FILE = \"data/pos.vocab\"\n",
    "\n",
    "try:\n",
    "    word_vocab_f = open(WORD_VOCAB_FILE, \"r\")\n",
    "    pos_vocab_f = open(POS_VOCAB_FILE, \"r\")\n",
    "except FileNotFoundError:\n",
    "    print(\n",
    "        \"Could not find vocabulary files {} and {}\".format(\n",
    "            WORD_VOCAB_FILE, POS_VOCAB_FILE\n",
    "        )\n",
    "    )"
   ]
  },
  {
   "cell_type": "code",
   "execution_count": 2,
   "id": "e5098657",
   "metadata": {},
   "outputs": [],
   "source": [
    "extractor = FeatureExtractor(word_vocab_f, pos_vocab_f)"
   ]
  },
  {
   "cell_type": "code",
   "execution_count": 3,
   "id": "ca2f4edb",
   "metadata": {},
   "outputs": [
    {
     "name": "stderr",
     "output_type": "stream",
     "text": [
      " 90%|█████████ | 9/10 [00:00<00:00, 720.11it/s]\n"
     ]
    }
   ],
   "source": [
    "with open(\"data/train.conll\", \"r\") as in_file:\n",
    "    extractor.output_format = 'tf'\n",
    "    _, outputs_tf = get_training_matrices(extractor, in_file, n=10)"
   ]
  },
  {
   "cell_type": "code",
   "execution_count": 5,
   "id": "90d1e69f",
   "metadata": {},
   "outputs": [
    {
     "name": "stdout",
     "output_type": "stream",
     "text": [
      "378\n",
      "<class 'numpy.ndarray'>\n",
      "(79,)\n"
     ]
    }
   ],
   "source": [
    "print(len(outputs_tf))\n",
    "print(type(outputs_tf[0]))\n",
    "print(outputs_tf[0].shape)"
   ]
  },
  {
   "cell_type": "code",
   "execution_count": 9,
   "id": "233ddc23",
   "metadata": {},
   "outputs": [
    {
     "name": "stdout",
     "output_type": "stream",
     "text": [
      "(378, 79)\n"
     ]
    }
   ],
   "source": [
    "# outputs_tf = np.stack(outputs_tf)\n",
    "print(outputs_tf.shape)"
   ]
  },
  {
   "cell_type": "markdown",
   "id": "2c6546c5",
   "metadata": {},
   "source": [
    "## Test if the pt version from extract_training_data.py is in correct format"
   ]
  },
  {
   "cell_type": "code",
   "execution_count": 11,
   "id": "134c582a",
   "metadata": {},
   "outputs": [
    {
     "name": "stdout",
     "output_type": "stream",
     "text": [
      "(1899270, 1)\n",
      "(1899270,)\n"
     ]
    }
   ],
   "source": [
    "outputs_pt = np.load('data/target_train.npy')\n",
    "print(outputs_pt.shape)\n",
    "\n",
    "outputs_pt_gt = np.load('data/target_train_int.npy')\n",
    "print(outputs_pt_gt.shape)"
   ]
  },
  {
   "cell_type": "code",
   "execution_count": 13,
   "id": "ba7e8532",
   "metadata": {},
   "outputs": [
    {
     "name": "stdout",
     "output_type": "stream",
     "text": [
      "2025-04-15 17:04:55.210554\n"
     ]
    }
   ],
   "source": [
    "import datetime\n",
    "print(datetime.datetime.now())"
   ]
  }
 ],
 "metadata": {
  "kernelspec": {
   "display_name": "base",
   "language": "python",
   "name": "python3"
  },
  "language_info": {
   "codemirror_mode": {
    "name": "ipython",
    "version": 3
   },
   "file_extension": ".py",
   "mimetype": "text/x-python",
   "name": "python",
   "nbconvert_exporter": "python",
   "pygments_lexer": "ipython3",
   "version": "3.11.5"
  }
 },
 "nbformat": 4,
 "nbformat_minor": 5
}
