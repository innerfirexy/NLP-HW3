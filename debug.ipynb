{
 "cells": [
  {
   "cell_type": "code",
   "execution_count": 11,
   "id": "95153791",
   "metadata": {},
   "outputs": [],
   "source": [
    "import numpy as np\n",
    "import torch\n",
    "from torch.utils.data import DataLoader, TensorDataset"
   ]
  },
  {
   "cell_type": "code",
   "execution_count": 23,
   "id": "73d6efc3",
   "metadata": {},
   "outputs": [
    {
     "name": "stdout",
     "output_type": "stream",
     "text": [
      "Done loading data.\n"
     ]
    }
   ],
   "source": [
    "inputs = np.load(\"data/input_train.npy\")\n",
    "# targets = np.load(\"data/target_train.npy\") # tf\n",
    "targets = np.load(\"data/target_train_int.npy\") # pytorch\n",
    "print(\"Done loading data.\")"
   ]
  },
  {
   "cell_type": "code",
   "execution_count": 24,
   "id": "2c59ea95",
   "metadata": {},
   "outputs": [
    {
     "name": "stdout",
     "output_type": "stream",
     "text": [
      "(1899270, 6)\n",
      "(1899270,)\n"
     ]
    }
   ],
   "source": [
    "print(inputs.shape)\n",
    "print(targets.shape)"
   ]
  },
  {
   "cell_type": "code",
   "execution_count": null,
   "id": "9b76db90",
   "metadata": {},
   "outputs": [
    {
     "name": "stdout",
     "output_type": "stream",
     "text": [
      "(1899270,)\n"
     ]
    }
   ],
   "source": [
    "# convert one-hot format targets to integer format\n",
    "# targets = np.argmax(targets, axis=1)\n",
    "# print(targets.shape)\n",
    "# np.save(\"data/target_train_int.npy\", targets)"
   ]
  },
  {
   "cell_type": "code",
   "execution_count": 25,
   "id": "996f240e",
   "metadata": {},
   "outputs": [],
   "source": [
    "inputs_tensor = torch.tensor(inputs, dtype=torch.long)\n",
    "targets_tensor = torch.tensor(targets, dtype=torch.long)\n",
    "\n",
    "dataset = TensorDataset(inputs_tensor, targets_tensor)\n",
    "dataloader = DataLoader(dataset, batch_size=32, shuffle=True)"
   ]
  },
  {
   "cell_type": "code",
   "execution_count": 26,
   "id": "8e6bc7fb",
   "metadata": {},
   "outputs": [
    {
     "name": "stdout",
     "output_type": "stream",
     "text": [
      "tensor([ 0, 22, 68,  2,  0,  0,  0,  0,  0, 16, 12, 38,  0, 17, 22,  0,  0,  0,\n",
      "         3,  1,  1, 36, 12,  0, 20, 11,  0, 42,  0,  0,  5,  0])\n"
     ]
    }
   ],
   "source": [
    "count = 0\n",
    "for batch in dataloader:\n",
    "    inputs, targets = batch\n",
    "    print(targets)\n",
    "    count += 1\n",
    "    if count >= 1:\n",
    "        break"
   ]
  },
  {
   "cell_type": "markdown",
   "id": "fe38ceca",
   "metadata": {},
   "source": [
    "### read_dep_relations()"
   ]
  },
  {
   "cell_type": "code",
   "execution_count": 6,
   "id": "7ed33a61",
   "metadata": {},
   "outputs": [
    {
     "name": "stdout",
     "output_type": "stream",
     "text": [
      "39\n"
     ]
    }
   ],
   "source": [
    "from dep_utils import conll_reader\n",
    "\n",
    "def read_dep_relations():\n",
    "    dep_relations = []\n",
    "\n",
    "    input_files = ['data/train.conll', 'data/dev.conll', 'data/test.conll']\n",
    "    for input_file in input_files:\n",
    "        with open(input_file, 'r') as f:\n",
    "            train_trees = list(conll_reader(f))\n",
    "        for tree in train_trees:\n",
    "            for k, v in tree.deprels.items():\n",
    "                if v.deprel not in dep_relations:\n",
    "                    dep_relations.append(v.deprel)\n",
    "\n",
    "    return dep_relations\n",
    "\n",
    "dep_relations = read_dep_relations()\n",
    "print(len(dep_relations))"
   ]
  }
 ],
 "metadata": {
  "kernelspec": {
   "display_name": "base",
   "language": "python",
   "name": "python3"
  },
  "language_info": {
   "codemirror_mode": {
    "name": "ipython",
    "version": 3
   },
   "file_extension": ".py",
   "mimetype": "text/x-python",
   "name": "python",
   "nbconvert_exporter": "python",
   "pygments_lexer": "ipython3",
   "version": "3.11.5"
  }
 },
 "nbformat": 4,
 "nbformat_minor": 5
}
